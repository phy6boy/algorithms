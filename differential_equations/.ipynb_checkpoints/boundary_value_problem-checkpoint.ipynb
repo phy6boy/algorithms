{
 "cells": [
  {
   "cell_type": "markdown",
   "metadata": {},
   "source": [
    "<h1 style=\"color:purple;font-size:3em\"> Boundary Value Problem </h1>"
   ]
  },
  {
   "cell_type": "markdown",
   "metadata": {},
   "source": [
    "As opposed to initial value problems, [Boundary value problems](https://en.wikipedia.org/wiki/Boundary_value_problem) is a class of differential equation together with a set of additional constraints (boundary conditions). A BVP with second order D.E has the form : \n",
    "\n",
    "$$\n",
    "\\frac{d^2y}{dx^2}\\ =\\ f\\left(x, y(x), y^{\\prime}(x)\\right),\\quad y(x_0) = a,\\quad y(x_n) = b\n",
    "$$\n",
    "\n",
    "Unlike initial value problems, a BVP has no unique solution. Some of theqniques used for finding solution are described here:"
   ]
  },
  {
   "cell_type": "markdown",
   "metadata": {},
   "source": [
    "<p style=\"color:purple;font-size:2em\"> Shooting Method </p>\n",
    "\n",
    "In this approach, we convert the BVP to Initial Value Problem(IVP). So, if we take $u_\\alpha$ to be the solution of the IVP, equivalent to the previous BVP, then it has the form :\n",
    "$$\n",
    "\\frac{d^2u_\\alpha}{dx^2}\\ =\\ f\\left(x, u_\\alpha(x), u_\\alpha^{\\prime}(x)\\right),\\quad u_\\alpha(x_0) = a,\\quad u^\\prime_\\alpha(x_0) = \\alpha\n",
    "$$\n",
    "\n",
    "Here, $\\alpha$ is choosen with an educated guess. Because of this guess, the value of this function $u_\\alpha(x)$ at $x=x_n$ will not be same as $y(x_n)$. Let us take the difference as $g(\\alpha)$, since the this depends on $\\alpha$. Thus we have : \n",
    "\n",
    "$$\n",
    "g(\\alpha)\\ =\\ u_\\alpha(x_n) - y(x_n)\\ =\\ u_\\alpha(x_n) - b \\qquad\\qquad \\because y(x_n) = b\n",
    "$$\n",
    "\n",
    "So, inorder to solve this set of equations, one has to find zero of equation above. Here are some expamples using different methods:"
   ]
  },
  {
   "cell_type": "markdown",
   "metadata": {},
   "source": [
    "### Bisection Shooting Method\n",
    "\n",
    "**Question :** solve the D.E :\n",
    "\n",
    "$$\n",
    "y^{\\prime\\prime} + 4y^\\prime\\ =\\ 5x, \\quad y(0)=1, \\quad y(1)=0\n",
    "$$\n",
    "**Solution :**\n",
    "Lets convert this to a initial value problem. \n",
    "\n",
    "$$\n",
    "u_\\alpha^{\\prime\\prime} + 4u_\\alpha^\\prime\\ =\\ 5x, \\quad u_\\alpha(0)=1, \\quad u^\\prime_\\alpha(0)=\\alpha\n",
    "$$\n",
    "\n",
    "lets pick initial values of $\\alpha$ are 0 and 5, so that when we take it as 0 and solve, $u_\\alpha(1)<0$ and for 5, $u_\\alpha(1)>0$. Lets try implimenting a runge kutta method for finding D.E"
   ]
  },
  {
   "cell_type": "markdown",
   "metadata": {},
   "source": [
    "### Runge Kutta \n",
    "\n",
    "the equation :\n",
    "\n",
    "$$\n",
    "y^{\\prime\\prime} + 4y^\\prime\\ =\\ 5x\n",
    "$$\n",
    "\n",
    "can be split into two differential equations by substituting for $y^\\prime = u$, so that the equation becomes\n",
    "\n",
    "\\begin{align}\n",
    "\\frac{dy}{dx} &= u \\\\[0.5em]\n",
    "\\frac{du}{dx} &= 5x-4u\n",
    "\\end{align}\n",
    "\n",
    "with constraints\n",
    "$$\n",
    "y(0) = 1, \\quad u(0) = \\alpha \n",
    "$$"
   ]
  },
  {
   "cell_type": "code",
   "execution_count": 1,
   "metadata": {},
   "outputs": [],
   "source": [
    "# importing necessary modules\n",
    "import numpy as np\n",
    "import matplotlib.pyplot as plt\n",
    "import scipy"
   ]
  },
  {
   "cell_type": "code",
   "execution_count": 20,
   "metadata": {},
   "outputs": [],
   "source": [
    "N = 200                      # Number of samples\n",
    "x = np.linspace(0, 1, N)     # Creating the array x\n",
    "dx = x[1] - x[0]             # Step size\n",
    "\n",
    "\n",
    "# defining f(x, u) for derivatve du/dx = f(x, u)\n",
    "def f(x, u):\n",
    "    return 5*x - 4*u\n",
    "\n",
    "# The following function takes a value of alpha and find the solution of the equation\n",
    "# y'' + 4y' = 5x using Runge-kutta method\n",
    "\n",
    "def desolve(alpha):\n",
    "    y = np.zeros(N, dtype=float) # Creating array to store y\n",
    "    u = np.zeros(N, dtype=float) # Creating array to store u\n",
    "    \n",
    "    # setting initial values\n",
    "    y[0] = 1\n",
    "    u[0] = alpha\n",
    "    \n",
    "    # Starting R-K loop\n",
    "    for i in range(1, N):\n",
    "        # k_x represents for y(x) and l_x for u(x)\n",
    "        k1 = u[i-1]\n",
    "        l1 = f(x[i-1], u[i-1])\n",
    "        k2 = u[i-1] + (1/2)*l1*dx\n",
    "        l2 = f(x[i-1] + (1/2)*dx, u[i-1] + (1/2)*l1*dx)\n",
    "        k3 = u[i-1] + (1/2)*l2*dx\n",
    "        l3 = f(x[i-1] + (1/2)*dx, u[i-1] + (1/2)*l2*dx)\n",
    "        k4 = u[i-1] + l3*dx\n",
    "        l4 = f(x[i-1] + dx, u[i-1] + l3*dx)\n",
    "        \n",
    "        # calculating the next y and u values\n",
    "        y[i] = y[i-1] + (1/6)*dx*(k1 + 2*k2 + 2*k3 + k4)\n",
    "        u[i] = u[i-1] + (1/6)*dx*(l1 + 2*l2 + 2*l3 + l4)\n",
    "    # Now, the array y stores the result\n",
    "    return y"
   ]
  },
  {
   "cell_type": "markdown",
   "metadata": {},
   "source": [
    "Lets check the result with two initial guess of $\\alpha$, $\\alpha_1 = 1$ and $\\alpha_2 = -10$"
   ]
  },
  {
   "cell_type": "code",
   "execution_count": 11,
   "metadata": {},
   "outputs": [
    {
     "data": {
      "text/plain": [
       "1.6346151809563805"
      ]
     },
     "execution_count": 11,
     "metadata": {},
     "output_type": "execute_result"
    }
   ],
   "source": [
    "desolve(1)[-1]    # last term of solution with alpha = 1"
   ]
  },
  {
   "cell_type": "code",
   "execution_count": 12,
   "metadata": {},
   "outputs": [
    {
     "data": {
      "text/plain": [
       "-1.0650168118209011"
      ]
     },
     "execution_count": 12,
     "metadata": {},
     "output_type": "execute_result"
    }
   ],
   "source": [
    "desolve(-10)[-1]   # last term of solution with alpha = 5"
   ]
  },
  {
   "cell_type": "markdown",
   "metadata": {},
   "source": [
    "This makes a good guess, since both have opposite sign.\n",
    "\n",
    "Now, using bisection method to find the value of alpha : "
   ]
  },
  {
   "cell_type": "code",
   "execution_count": 13,
   "metadata": {},
   "outputs": [
    {
     "name": "stdout",
     "output_type": "stream",
     "text": [
      "alpha =  -4.5\n",
      "alpha =  -7.25\n",
      "alpha =  -5.875\n",
      "alpha =  -5.1875\n",
      "alpha =  -5.53125\n",
      "alpha =  -5.703125\n",
      "alpha =  -5.6171875\n",
      "alpha =  -5.66015625\n",
      "alpha =  -5.681640625\n",
      "alpha =  -5.6708984375\n",
      "alpha =  -5.66552734375\n",
      "alpha =  -5.662841796875\n",
      "alpha =  -5.6614990234375\n",
      "alpha =  -5.66082763671875\n",
      "alpha =  -5.660491943359375\n",
      "alpha =  -5.6603240966796875\n",
      "alpha =  -5.660408020019531\n",
      "alpha =  -5.660449981689453\n",
      "alpha =  -5.660470962524414\n",
      "alpha =  -5.660460472106934\n",
      "alpha =  -5.660455226898193\n",
      "alpha =  -5.660452604293823\n",
      "alpha =  -5.660451292991638\n",
      "alpha =  -5.660450637340546\n",
      "alpha =  -5.660450965166092\n"
     ]
    }
   ],
   "source": [
    "a = 1\n",
    "b = -10\n",
    "# bisection\n",
    "alpha = (a + b)/2\n",
    "# final value of solution at alpha\n",
    "fa = desolve(alpha)[-1]\n",
    "while abs(fa)>1e-8:\n",
    "    print(\"alpha = \", alpha)\n",
    "    # If the last value of y is positive, then update a, else updtae b\n",
    "    if fa > 0 :\n",
    "        a = alpha\n",
    "    else:\n",
    "        b = alpha\n",
    "    # update alpha and fa\n",
    "    alpha = (a + b)/2\n",
    "    fa = desolve(alpha)[-1]\n"
   ]
  },
  {
   "cell_type": "code",
   "execution_count": 14,
   "metadata": {},
   "outputs": [
    {
     "data": {
      "text/plain": [
       "-5.660451129078865"
      ]
     },
     "execution_count": 14,
     "metadata": {},
     "output_type": "execute_result"
    }
   ],
   "source": [
    "alpha"
   ]
  },
  {
   "cell_type": "code",
   "execution_count": 15,
   "metadata": {},
   "outputs": [
    {
     "data": {
      "text/plain": [
       "3.284482948638645e-09"
      ]
     },
     "execution_count": 15,
     "metadata": {},
     "output_type": "execute_result"
    }
   ],
   "source": [
    "#  Now we  have alpha, we can find the solution\n",
    "y = desolve(alpha)\n",
    "y[-1]"
   ]
  },
  {
   "cell_type": "code",
   "execution_count": 8,
   "metadata": {},
   "outputs": [
    {
     "data": {
      "text/plain": [
       "(1.0, -1.3877787807814457e-17)"
      ]
     },
     "execution_count": 8,
     "metadata": {},
     "output_type": "execute_result"
    }
   ],
   "source": [
    "# True solution find using a Computer Algebra System, for comparison\n",
    "N = 200\n",
    "x = np.linspace(0, 1, N)\n",
    "ytrue = (5/8)*x**2 - (5/16)*x - (1/64)*(25*np.exp(4) + 59)/(np.exp(4) - 1) +\\\n",
    "        (21/16)*np.exp(-4*x + 4)/(np.exp(4) - 1) + (5/64)\n",
    "ytrue[0], ytrue[-1]"
   ]
  },
  {
   "cell_type": "code",
   "execution_count": 17,
   "metadata": {},
   "outputs": [
    {
     "data": {
      "text/plain": [
       "<matplotlib.legend.Legend at 0x7fe544e15c90>"
      ]
     },
     "execution_count": 17,
     "metadata": {},
     "output_type": "execute_result"
    },
    {
     "data": {
      "image/png": "[encoded data removed]",
      "text/plain": [
       "<Figure size 720x576 with 1 Axes>"
      ]
     },
     "metadata": {
      "needs_background": "light"
     },
     "output_type": "display_data"
    }
   ],
   "source": [
    "# visualizing the solutions\n",
    "plt.figure(figsize=(10, 8))\n",
    "plt.plot(x, y,\"-\", lw=5, label=\"calculated\")\n",
    "plt.plot(x, ytrue,\"--\",lw=5, label=\"exact\")\n",
    "plt.plot(x, desolve(1), \"--\", label=\"alpha=1\")\n",
    "plt.plot(x, desolve(-10), \"--\", label=\"alpha=-10\")\n",
    "plt.legend()"
   ]
  },
  {
   "cell_type": "markdown",
   "metadata": {},
   "source": [
    "### Newton Raphson Shooting Method\n",
    "\n",
    "Remember we have to solve IVP: \n",
    "$$\n",
    "\\frac{d^2u_\\alpha}{dx^2}\\ =\\ f\\left(x, u_\\alpha(x), u_\\alpha^{\\prime}(x)\\right),\\quad u_\\alpha(x_0) = a,\\quad u^\\prime_\\alpha(x_0) = \\alpha\n",
    "$$\n",
    "\n",
    "with $g(\\alpha)$ is given by:\n",
    "$$\n",
    "g(\\alpha)\\ =\\ u_\\alpha(x_n) - y(x_n)\\ =\\ u_\\alpha(x_n) - b \\qquad\\qquad \\because y(x_n) = b\n",
    "$$\n",
    "\n",
    "Here, to find root of equation $g(\\alpha) = 0$, we use Newton-Raphson method:\n",
    "\n",
    "$$\n",
    "\\alpha_{i+1} = \\alpha_i - \\frac{g(\\alpha_i)}{g^\\prime(\\alpha_i)}\n",
    "$$\n",
    "\n",
    "But the problem here is, we don't have $g^\\prime(\\alpha)$. To calculate thats, we take derivative w.r.t $\\alpha$ of the first equation:\n",
    "\n",
    "\\begin{align}\n",
    "\\frac{d}{d\\alpha}\\frac{d^2u_\\alpha}{dx^2}\\ &=\\ \\frac{d}{d\\alpha}f\\left(x, u_\\alpha(x), u_\\alpha^{\\prime}(x)\\right)\\\\[0.5em]\n",
    "\\implies \\frac{d^2}{dx^2}\\frac{du_\\alpha}{d\\alpha}\\ &=\\ \\frac{\\partial f}{\\partial u_\\alpha}\\frac{du_\\alpha}{d\\alpha} + \\frac{\\partial f}{\\partial u^\\prime_\\alpha}\\frac{du^\\prime_\\alpha}{d\\alpha}\n",
    "\\end{align}\n",
    "\n",
    "putting $\\frac{du_\\alpha}{d\\alpha}\\ =\\ v_\\alpha(x)$, we have,\n",
    "$$\n",
    "v^{\\prime\\prime}_\\alpha\\ =\\ \\frac{\\partial f}{\\partial u_\\alpha}v_\\alpha + \\frac{\\partial f}{\\partial u^\\prime_\\alpha}v^\\prime_\\alpha\n",
    "$$\n",
    "\n",
    "initial conditions of $v_\\alpha(x)$ are:\n",
    "$$\n",
    "v_\\alpha(x_0) = \\frac{du_\\alpha(x_0)}{d\\alpha} = \\frac{da}{d\\alpha} = 0, \\qquad v^\\prime_\\alpha(x_0) = \\frac{du^\\prime_\\alpha(x_0)}{d\\alpha} = \\frac{d\\alpha}{d\\alpha} = 1\n",
    "$$\n",
    "\n",
    "Now we have another D.E to solve, as described above. As a result, the newton raphson ormula becomes:\n",
    "\n",
    "$$\n",
    "\\alpha_{i+1} = \\alpha_i - \\frac{u_{\\alpha_i}(x_n)-b}{v_{\\alpha_i}(x_n)}\n",
    "$$\n"
   ]
  },
  {
   "cell_type": "markdown",
   "metadata": {},
   "source": [
    "So, inorder to solve the equation using newton raphson method, we have two IVP:\n",
    "\n",
    "$$\n",
    "\\frac{d^2u_\\alpha}{dx^2}\\ =\\ f\\left(x, u_\\alpha(x), u_\\alpha^{\\prime}(x)\\right),\\quad u_\\alpha(x_0) = a,\\quad u^\\prime_\\alpha(x_0) = \\alpha\n",
    "$$\n",
    "\n",
    "$$\n",
    "v^{\\prime\\prime}_\\alpha\\ =\\ \\frac{\\partial f}{\\partial u_\\alpha}v_\\alpha + \\frac{\\partial f}{\\partial u^\\prime_\\alpha}v^\\prime_\\alpha, \\quad v_\\alpha(x_0) = 0, \\quad v^\\prime_\\alpha(x_0) = 1\n",
    "$$\n",
    "\n",
    "and use this formula to better estimate $\\alpha$ and repeat until convergence is achieved\n",
    "\n",
    "$$\n",
    "\\alpha_{i+1} = \\alpha_i - \\frac{u_{\\alpha_i}(x_n)-b}{v_{\\alpha_i}(x_n)}\n",
    "$$"
   ]
  },
  {
   "cell_type": "markdown",
   "metadata": {},
   "source": [
    "**Question :** solve the D.E :\n",
    "\n",
    "$$\n",
    "y^{\\prime\\prime} + 4y^\\prime\\ =\\ 5x, \\quad y(0)=1, \\quad y(1)=0\n",
    "$$\n",
    "\n",
    "**soluton :** This is same as the one we encounter in bisection method, so we can use the same desolve(alpha) to find solution for first IVP. for the second case, we will create desolve2(alpha)\n",
    "\n",
    "we have The IVP:\n",
    "$$\n",
    "u_\\alpha^{\\prime\\prime} + 4u_\\alpha^\\prime\\ =\\ 5x, \\quad u_\\alpha(0)=1, \\quad u^\\prime_\\alpha(0)=\\alpha\n",
    "$$\n",
    "\n",
    "$$\n",
    "\\therefore f = 5x - 4u^\\prime_\\alpha\n",
    "$$\n",
    "Hence\n",
    "$$\n",
    "\\frac{\\partial f}{\\partial u_\\alpha} = 0, \\quad \\frac{\\partial f}{\\partial u^\\prime_\\alpha} = -4\n",
    "$$\n",
    "\n",
    "so the 2nd IVP is:\n",
    "\n",
    "$$\n",
    "v^{\\prime\\prime}_\\alpha\\ = -4v^\\prime_\\alpha, \\quad v_\\alpha(x_0) = 0, \\quad v^\\prime_\\alpha(x_0) = 1\n",
    "$$\n"
   ]
  },
  {
   "cell_type": "markdown",
   "metadata": {},
   "source": [
    "So, the DE to solve is, \n",
    "\n",
    "$$\n",
    "v^{\\prime\\prime} = -4v^\\prime\n",
    "$$\n",
    "\n",
    "we make substitutio u = $v^\\prime$, so that we got two coupled 1st order DE:\n",
    "\n",
    "$$\n",
    "\\frac{dv}{dx} = u(x), \\quad \\texttt{and} \\quad \\frac{du}{dx} = -4u(x)\n",
    "$$\n",
    "with\n",
    "$$\n",
    "v(x_0) = 0 \\quad \\texttt{and} \\quad u(x_0) = 1\n",
    "$$"
   ]
  },
  {
   "cell_type": "code",
   "execution_count": 21,
   "metadata": {},
   "outputs": [],
   "source": [
    "N = 200                      # Number of samples\n",
    "x = np.linspace(0, 1, N)     # Creating the array x\n",
    "dx = x[1] - x[0]             # Step size\n",
    "\n",
    "\n",
    "# defining f2(x, u) for derivatve du/dx = f2(x, u)\n",
    "def f2(x, u):\n",
    "    return -4*u\n",
    "\n",
    "# The following function takes a value of alpha and find the solution of the equation\n",
    "# y'' + 4y' = 5x using Runge-kutta method\n",
    "\n",
    "def desolve2(alpha):\n",
    "    v = np.zeros(N, dtype=float) # Creating array to store y\n",
    "    u = np.zeros(N, dtype=float) # Creating array to store u\n",
    "    \n",
    "    # setting initial values\n",
    "    v[0] = 0\n",
    "    u[0] = 1\n",
    "    \n",
    "    # Starting R-K loop\n",
    "    for i in range(1, N):\n",
    "        # k_x represents for v(x) and l_x for u(x)\n",
    "        k1 = u[i-1]\n",
    "        l1 = f2(x[i-1], u[i-1])\n",
    "        k2 = u[i-1] + (1/2)*l1*dx\n",
    "        l2 = f2(x[i-1] + (1/2)*dx, u[i-1] + (1/2)*l1*dx)\n",
    "        k3 = u[i-1] + (1/2)*l2*dx\n",
    "        l3 = f2(x[i-1] + (1/2)*dx, u[i-1] + (1/2)*l2*dx)\n",
    "        k4 = u[i-1] + l3*dx\n",
    "        l4 = f2(x[i-1] + dx, u[i-1] + l3*dx)\n",
    "        \n",
    "        # calculating the next y and u values\n",
    "        v[i] = v[i-1] + (1/6)*dx*(k1 + 2*k2 + 2*k3 + k4)\n",
    "        u[i] = u[i-1] + (1/6)*dx*(l1 + 2*l2 + 2*l3 + l4)\n",
    "    # Now, the array y stores the result\n",
    "    return v"
   ]
  },
  {
   "cell_type": "markdown",
   "metadata": {},
   "source": [
    "Now we have Newton-Raphson formula:\n",
    "\n",
    "$$\n",
    "\\alpha_{i+1} = \\alpha_i - \\frac{u_{\\alpha_i}(x_n)-b}{v_{\\alpha_i}(x_n)} = \\alpha_i - \\frac{u_{\\alpha_i}(x_n)}{v_{\\alpha_i}(x_n)} \\quad \\because b=0\n",
    "$$\n"
   ]
  },
  {
   "cell_type": "code",
   "execution_count": 22,
   "metadata": {},
   "outputs": [
    {
     "name": "stdout",
     "output_type": "stream",
     "text": [
      "alpha =  1\n"
     ]
    }
   ],
   "source": [
    "# starting guess for alpha\n",
    "alpha = 1\n",
    "# taking end point\n",
    "fa =  desolve(alpha)[-1]\n",
    "while abs(fa)>1e-8:\n",
    "    print(\"alpha = \", alpha)\n",
    "    alpha = alpha - desolve(alpha)[-1]/desolve2(alpha)[-1]\n",
    "    fa = desolve(alpha)[-1]"
   ]
  },
  {
   "cell_type": "code",
   "execution_count": 23,
   "metadata": {},
   "outputs": [
    {
     "data": {
      "text/plain": [
       "-5.660451142461925"
      ]
     },
     "execution_count": 23,
     "metadata": {},
     "output_type": "execute_result"
    }
   ],
   "source": [
    "alpha"
   ]
  },
  {
   "cell_type": "code",
   "execution_count": 29,
   "metadata": {},
   "outputs": [
    {
     "data": {
      "text/plain": [
       "-1.951563910473908e-15"
      ]
     },
     "execution_count": 29,
     "metadata": {},
     "output_type": "execute_result"
    }
   ],
   "source": [
    "# Now, we can calculate value of y for this alpha\n",
    "ynr = desolve(alpha)\n",
    "ynr[-1]"
   ]
  },
  {
   "cell_type": "code",
   "execution_count": 28,
   "metadata": {},
   "outputs": [
    {
     "data": {
      "text/plain": [
       "<matplotlib.legend.Legend at 0x7fe543d83b10>"
      ]
     },
     "execution_count": 28,
     "metadata": {},
     "output_type": "execute_result"
    },
    {
     "data": {
      "image/png": "[encoded data removed]",
      "text/plain": [
       "<Figure size 720x576 with 1 Axes>"
      ]
     },
     "metadata": {
      "needs_background": "light"
     },
     "output_type": "display_data"
    }
   ],
   "source": [
    "# visualizing the solutions\n",
    "plt.figure(figsize=(10, 8))\n",
    "plt.plot(x, ynr,\"-\", lw=5, label=\"newton-raphson\")\n",
    "plt.plot(x, ytrue,\".\",lw=5, label=\"exact\")\n",
    "\n",
    "plt.legend()"
   ]
  },
  {
   "cell_type": "code",
   "execution_count": null,
   "metadata": {},
   "outputs": [],
   "source": []
  }
 ],
 "metadata": {
  "kernelspec": {
   "display_name": "Python 3",
   "language": "python",
   "name": "python3"
  },
  "language_info": {
   "codemirror_mode": {
    "name": "ipython",
    "version": 3
   },
   "file_extension": ".py",
   "mimetype": "text/x-python",
   "name": "python",
   "nbconvert_exporter": "python",
   "pygments_lexer": "ipython3",
   "version": "3.7.4"
  }
 },
 "nbformat": 4,
 "nbformat_minor": 4
}
